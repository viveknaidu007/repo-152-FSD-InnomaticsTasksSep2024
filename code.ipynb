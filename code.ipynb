{
 "cells": [
  {
   "cell_type": "code",
   "execution_count": null,
   "metadata": {
    "vscode": {
     "languageId": "plaintext"
    }
   },
   "outputs": [],
   "source": [
    "functionalities : \n",
    "\n",
    "* set a countdown to a specific date and time\n",
    "* Display remaining days, hours, minutes and seconds\n",
    "* update the display in real time\n",
    "* notify the user whe the countdown reaches zero\n",
    "* save the countdown state using localStorage\n",
    "\n",
    "Approach:\n",
    "* Add event lsitners for setting the countdown\n",
    "* write a function to calcualte and display remaining time\n",
    "* Use setInterval for real-time updates\n",
    "* Implement a notification for when the countdown ends\n",
    "* Save and retrieve countdown state using local storage\n",
    "\n"
   ]
  }
 ],
 "metadata": {
  "language_info": {
   "name": "python"
  }
 },
 "nbformat": 4,
 "nbformat_minor": 2
}
