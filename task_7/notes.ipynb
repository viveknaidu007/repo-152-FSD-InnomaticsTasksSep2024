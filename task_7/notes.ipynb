{
 "cells": [
  {
   "cell_type": "markdown",
   "metadata": {},
   "source": [
    "# steps for doing"
   ]
  },
  {
   "cell_type": "code",
   "execution_count": null,
   "metadata": {},
   "outputs": [],
   "source": [
    "#documentation :\n",
    "\n",
    "#vite : https://vite.dev/\n",
    "#react : https://react.dev/"
   ]
  },
  {
   "cell_type": "code",
   "execution_count": null,
   "metadata": {},
   "outputs": [],
   "source": [
    "# insatlling :\n",
    "\n",
    "we have to download \n",
    "nodejs package manager \n",
    "\n",
    "https://nodejs.org/en/download/prebuilt-installer\n",
    "\n",
    "\n",
    "#after installing :\n",
    "check:\n",
    "\n",
    "node -v\n",
    "\n",
    "npm -v\n",
    "\n",
    "React => 1. create react app (350-400 mb)\n",
    "         2 . Vite app (50mb)              // so it was prefered\n",
    "\n"
   ]
  },
  {
   "cell_type": "code",
   "execution_count": null,
   "metadata": {},
   "outputs": [],
   "source": [
    "#for installing package :\n",
    "\n",
    "npm create vite@latest\n",
    "give project name\n",
    "select a framework :  React (it will ask select framework)\n",
    "select a variant :  Javascript\n",
    "\n",
    "cd introduction\n",
    "npm install \n",
    "npm run dev\n"
   ]
  },
  {
   "cell_type": "code",
   "execution_count": null,
   "metadata": {},
   "outputs": [],
   "source": [
    "type this in terminal :\n",
    "\n",
    "npm i react-router-dom\n",
    "\n",
    "#it will help us to create single page applications\n",
    "\n",
    "\"\"\"\n",
    "Client-Side Routing: It allows you to create a single-page application (SPA) with navigation between different components or pages without refreshing the entire page. This improves user experience by providing faster navigation.\n",
    "\n",
    "Dynamic Routing: You can define routes dynamically based on user input or application state, enabling a more interactive and responsive UI.\n",
    "\n",
    "Nested Routes: It supports nested routes, allowing you to define child routes within parent routes, which helps in organizing the application's structure.\n",
    "\n",
    "Route Parameters: You can define parameters in routes, enabling you to pass dynamic data in the URL. For example, /user/:id can match different user IDs.\n",
    "\n",
    "Redirection: It provides mechanisms for redirecting users based on certain conditions, such as authentication status.\n",
    "\n",
    "Route Protection: You can create protected routes that only allow access to certain components based on user authentication or roles.\n",
    "\n",
    "Navigation Components: The library includes components like <Link>, <NavLink>, and <Redirect> for navigating between routes easily.\"\"\"\n",
    "\n",
    "\n",
    "# we can import liek here:\n",
    "import { BrowserRouter as Router, Route, Switch, Link } from 'react-router-dom';\n",
    "\n",
    "#we can check here it will display \"package.json\":\n",
    "  \"dependencies\": {\n",
    "    \"react\": \"^18.3.1\",\n",
    "    \"react-dom\": \"^18.3.1\",\n",
    "    \"react-router-dom\": \"^6.27.0\"\n",
    "  },\n"
   ]
  },
  {
   "cell_type": "code",
   "execution_count": null,
   "metadata": {},
   "outputs": [],
   "source": [
    "# we can find here docuemntation for npm pakcges/libarires :\n",
    "https://www.npmjs.com/"
   ]
  },
  {
   "cell_type": "code",
   "execution_count": null,
   "metadata": {},
   "outputs": [],
   "source": [
    "#now here :\n",
    "npm install react-transition-group\n",
    "\n",
    "\n",
    "import { CSSTransition, TransitionGroup } from 'react-transition-group';"
   ]
  },
  {
   "cell_type": "code",
   "execution_count": null,
   "metadata": {},
   "outputs": [],
   "source": [
    "#now here:\n",
    "npm install bootstrap\n",
    "import 'bootstrap/dist/css/bootstrap.min.css';\n",
    "\n",
    "\n",
    "#for checking bootsrap version : \n",
    "npm list bootstrap\n",
    "\n",
    "\n",
    "\"\"\"Visit the corresponding Bootstrap documentation: Once you know the version, you can visit the official Bootstrap documentation site. Bootstrap's documentation for each version is available at the following URLs:\n",
    "\n",
    "    Bootstrap 5: https://getbootstrap.com/docs/5.x/\n",
    "    Bootstrap 4: https://getbootstrap.com/docs/4.x/\n",
    "    Bootstrap 3: https://getbootstrap.com/docs/3.x/\n",
    "\n",
    "Replace the x with your specific minor version (e.g., 5.3, 4.6, etc.).\"\"\"\n"
   ]
  },
  {
   "cell_type": "code",
   "execution_count": null,
   "metadata": {},
   "outputs": [],
   "source": [
    "# now creater folder \"componenets\" in src\n",
    "\n",
    "# now update code:\n",
    "create this :\n",
    "About.jsx\n",
    "Contact.jsx\n",
    "error.jsx\n",
    "Home.jsx\n",
    "Services.jsx\n",
    "\n",
    "\n",
    "#now update App.jsx\n",
    "App.jsx"
   ]
  },
  {
   "cell_type": "code",
   "execution_count": null,
   "metadata": {},
   "outputs": [],
   "source": [
    "# check bootstrap documentation for the styles , colours padding etc"
   ]
  },
  {
   "cell_type": "code",
   "execution_count": null,
   "metadata": {},
   "outputs": [],
   "source": [
    "# for running the app :\n",
    "npm run dev"
   ]
  },
  {
   "cell_type": "code",
   "execution_count": null,
   "metadata": {},
   "outputs": [],
   "source": [
    "# final :\n",
    "\n",
    "#This creates a build folder that contains all the static files needed for your app to run in production.\n",
    "npm run build"
   ]
  },
  {
   "cell_type": "code",
   "execution_count": null,
   "metadata": {},
   "outputs": [],
   "source": [
    "\"\"\"C:\\Users\\poppo\\Desktop\\github ai\\end to end by vivek\\repo-152-FSD-InnomaticsTasksSep2024\\task7\\static_pages>npm run build\n",
    "\n",
    "> static_pages@0.0.0 build\n",
    "> vite build\n",
    "\n",
    "vite v5.4.10 building for production...\n",
    "✓ 67 modules transformed.\n",
    "dist/index.html                   0.46 kB │ gzip:  0.29 kB\n",
    "dist/assets/index-BBEToszB.css  233.32 kB │ gzip: 31.18 kB\n",
    "dist/assets/index-DnDUt5oB.js   202.08 kB │ gzip: 61.79 kB\n",
    "✓ built in 1.84s\"\"\"\n",
    "\n",
    "# now use this \"dist folder for deployment ur react application\""
   ]
  }
 ],
 "metadata": {
  "language_info": {
   "name": "python"
  }
 },
 "nbformat": 4,
 "nbformat_minor": 2
}
