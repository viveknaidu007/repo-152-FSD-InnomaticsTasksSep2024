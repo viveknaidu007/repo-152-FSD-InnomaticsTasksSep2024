{
 "cells": [
  {
   "cell_type": "markdown",
   "metadata": {},
   "source": [
    "# aim : Student management Portal:"
   ]
  },
  {
   "cell_type": "code",
   "execution_count": null,
   "metadata": {
    "vscode": {
     "languageId": "plaintext"
    }
   },
   "outputs": [],
   "source": [
    "#documentation :\n",
    "\n",
    "#vite : https://vite.dev/\n",
    "#react : https://react.dev/"
   ]
  },
  {
   "cell_type": "code",
   "execution_count": null,
   "metadata": {
    "vscode": {
     "languageId": "plaintext"
    }
   },
   "outputs": [],
   "source": [
    "# my steps done for this :"
   ]
  },
  {
   "cell_type": "code",
   "execution_count": null,
   "metadata": {},
   "outputs": [],
   "source": [
    "# installing:\n",
    "\n",
    "npx create-react-app student-management-portal\n",
    "cd student-management-portal\n",
    "npm install react-router-dom @reduxjs/toolkit react-redux recharts\n",
    "\n",
    "\n",
    "or \n",
    "\n",
    "# this is best way in my ase, it takes low memory for crrating project:\n",
    "#for installing package through vite app:\n",
    "\n",
    "npm create vite@latest\n",
    "give project name\n",
    "select a framework :  React (it will ask select framework)\n",
    "select a variant :  Javascript\n",
    "\n",
    "cd introduction\n",
    "npm install \n",
    "npm run dev\n"
   ]
  },
  {
   "cell_type": "code",
   "execution_count": null,
   "metadata": {},
   "outputs": [],
   "source": [
    "# now after creating project , install libraries/dependcies:\n",
    "\n",
    "npm i libraries\n",
    "\n",
    "\n",
    "#here i means install\n",
    "\n",
    "\"\"\"\n",
    "react-router-dom: For routing between components in a React app.\n",
    "@reduxjs/toolkit: A simplified toolkit for working with Redux.\n",
    "react-redux: Official React bindings for Redux, allowing React components to interact with the Redux store.\n",
    "recharts: A library for creating charts in React applications.\n",
    "bootstrap: When we install Bootstrap (like with npm i bootstrap), we're essentially adding a library of pre-written, responsive CSS styles and JavaScript components. Bootstrap provides a framework of CSS classes that make it easier to create layouts and UI elements, such as buttons, forms, grids, and navigation components. By using these predefined classes, we save time since we don't have to write the styles from scratch.\n",
    "\"\"\""
   ]
  },
  {
   "cell_type": "code",
   "execution_count": null,
   "metadata": {},
   "outputs": [],
   "source": [
    "\"\"\"npm install axios bootstrap chart.js react-bootstrap react-chartjs react-icons react-router-dom\"\"\""
   ]
  },
  {
   "cell_type": "code",
   "execution_count": null,
   "metadata": {},
   "outputs": [],
   "source": [
    "npm install @reduxjs/toolkit bootstrap react-bootstrap react-redux react-router-dom styled-components\n"
   ]
  },
  {
   "cell_type": "code",
   "execution_count": null,
   "metadata": {},
   "outputs": [],
   "source": [
    "npm fund"
   ]
  },
  {
   "cell_type": "code",
   "execution_count": null,
   "metadata": {},
   "outputs": [],
   "source": [
    "npm audit fix"
   ]
  },
  {
   "cell_type": "code",
   "execution_count": null,
   "metadata": {},
   "outputs": [],
   "source": [
    "# note: checl after installing this : \n",
    "if ur github came upto 2k+ , npm is trying to connect to GitHub because your default registry is set to GitHub's. You can fix this by switching your registry back to the default npm registry. Here’s how to do it:\n",
    "\n",
    "1. npm config set registry https://registry.npmjs.org/\n",
    "\n",
    "This will make sure npm uses the standard npm registry instead of any custom one that might be linked to GitHub.\n",
    "\n",
    "2.insatll the package again\n",
    "npm install @reduxjs/toolkit bootstrap react-bootstrap react-redux react-router-dom styled-components"
   ]
  },
  {
   "cell_type": "code",
   "execution_count": null,
   "metadata": {},
   "outputs": [],
   "source": [
    "# now project structure or , create folders and files according to ur wish:\n",
    "\n",
    "# actual proejt structure shoul dbe like this:\n",
    "\n",
    "#example striucture look like this for ur react ,\n",
    "#note this is an example \n",
    "\n",
    "student-management-portal\n",
    "├── public\n",
    "├── src\n",
    "│   ├── components\n",
    "│   │   ├── StudentForm.js\n",
    "│   │   ├── StudentList.js\n",
    "│   │   ├── StudentDetails.js\n",
    "│   │   ├── Dashboard.js\n",
    "│   │   └── Navbar.js\n",
    "│   ├── context\n",
    "│   │   └── StudentContext.js\n",
    "│   ├── App.js\n",
    "│   ├── index.js\n",
    "│   ├── data.json\n",
    "├── package.json\n"
   ]
  },
  {
   "cell_type": "markdown",
   "metadata": {},
   "source": [
    "//"
   ]
  },
  {
   "cell_type": "code",
   "execution_count": null,
   "metadata": {},
   "outputs": [],
   "source": [
    "npm run dev\n",
    "npm build"
   ]
  }
 ],
 "metadata": {
  "language_info": {
   "name": "python"
  }
 },
 "nbformat": 4,
 "nbformat_minor": 2
}
