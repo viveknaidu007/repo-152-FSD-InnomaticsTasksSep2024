{
 "cells": [
  {
   "cell_type": "code",
   "execution_count": null,
   "metadata": {
    "vscode": {
     "languageId": "plaintext"
    }
   },
   "outputs": [],
   "source": [
    "# for documentation :\n",
    "\n",
    "https://getbootstrap.com/docs/4.5/utilities/colors/"
   ]
  },
  {
   "cell_type": "code",
   "execution_count": null,
   "metadata": {
    "vscode": {
     "languageId": "plaintext"
    }
   },
   "outputs": [],
   "source": [
    "@media (max-width: 768px) {\n",
    "            .nav-link {\n",
    "                font-size: large; /* Adjust font size for mobile */\n",
    "            }\n",
    "            .hero {\n",
    "                font-size: large; /* Adjust font size for mobile */\n",
    "            }\n",
    "            .container {\n",
    "                font-size: large; /* Adjust font size for mobile */\n",
    "            }\n",
    "            .section {\n",
    "                padding: 40px 0; /* Reduce padding for smaller screens */\n",
    "            }\n",
    "        }\n",
    "        @media (max-width: 576px) {\n",
    "            .nav-link {\n",
    "                font-size: medium; /* Further adjust for smaller screens */\n",
    "            }\n",
    "            .footer {\n",
    "                font-size: small; /* Smaller font size in footer */\n",
    "            }\n",
    "        }"
   ]
  },
  {
   "cell_type": "code",
   "execution_count": null,
   "metadata": {
    "vscode": {
     "languageId": "plaintext"
    }
   },
   "outputs": [],
   "source": [
    "this will for mobile view and tablet view :\n",
    "\n"
   ]
  },
  {
   "cell_type": "code",
   "execution_count": null,
   "metadata": {
    "vscode": {
     "languageId": "plaintext"
    }
   },
   "outputs": [],
   "source": [
    "<section class=\"banner\"></section>\n",
    "\n",
    "\n",
    "\n",
    "\n",
    "        .banner {\n",
    "    background: url('https://www.innomatics.in/wp-content/uploads/2023/01/AWARD-PAGE.jpg') center center/cover;\n",
    "    height:80vh;\n",
    "    max-height: none;\n",
    "    width: 100%;\n",
    "}"
   ]
  }
 ],
 "metadata": {
  "language_info": {
   "name": "python"
  }
 },
 "nbformat": 4,
 "nbformat_minor": 2
}
