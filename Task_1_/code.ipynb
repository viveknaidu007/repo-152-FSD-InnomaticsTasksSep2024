{
 "cells": [
  {
   "cell_type": "code",
   "execution_count": null,
   "metadata": {
    "vscode": {
     "languageId": "html"
    }
   },
   "outputs": [],
   "source": [
    "# // now steps :"
   ]
  },
  {
   "cell_type": "code",
   "execution_count": null,
   "metadata": {
    "vscode": {
     "languageId": "html"
    }
   },
   "outputs": [],
   "source": [
    "<tr></tr> = table row\n",
    "<th></th> = table heading\n",
    "<td></td>= table data\n",
    "<br> = break row"
   ]
  },
  {
   "cell_type": "code",
   "execution_count": null,
   "metadata": {
    "vscode": {
     "languageId": "html"
    }
   },
   "outputs": [],
   "source": [
    "<body>\n",
    "    <table>\n",
    "\n",
    "        <tr>\n",
    "            <th colspan=\"6\"> Final Examination Schedule - Fall 2008</th>\n",
    "        </tr>\n",
    "\n",
    "        <tr>\n",
    "            <th> </th>\n",
    "            <th>Monday <br> Dec. 15</th>\n",
    "            <th>Tuesday <br> Dec.16 </th>\n",
    "            <th>Wedneday <br> Dec.17 </th>\n",
    "            <th>Thrusday <br> Dec.18 </th>\n",
    "            <td rowspan=\"5\"> Home</td>\n",
    "\n",
    "        </tr>\n",
    "\n",
    "        <tr>\n",
    "            <td>8.00 a.m.</td>\n",
    "            <td>Data Structers</td>\n",
    "            <td>Algorithms</td>\n",
    "            <td>Computer Networks</td>\n",
    "            <td>Database Systems</td>\n",
    "        </tr>\n",
    "\n",
    "        <tr>\n",
    "            <td>10:00 a.m.</td>\n",
    "            <td>Operating Systems`</td>\n",
    "            <td>Artificial Inteligence</td>\n",
    "            <td>Software Engineering</td>\n",
    "            <td>Web Development</td>\n",
    "        </tr>\n",
    "\n",
    "\n",
    "        <tr>\n",
    "            <td>1:00 p.m.</td>\n",
    "            <td>Machine Learning</td>\n",
    "            <td>Cyber Security</td>\n",
    "            <td>Mobile Computing</td>\n",
    "            <td>Human-Computer Interaction</td>\n",
    "        </tr>\n",
    "\n",
    "        <tr>\n",
    "            <td>3:00 p.m</td>\n",
    "            <td>Big Data Analytics</td>\n",
    "            <td> Cloud Computing</td>\n",
    "            <td>Parallel Computing</td>\n",
    "            <td>Computer Graphics</td>\n",
    "        </tr>\n",
    "\n",
    "\n",
    "    </table>\n",
    "</body>"
   ]
  },
  {
   "cell_type": "code",
   "execution_count": null,
   "metadata": {
    "vscode": {
     "languageId": "html"
    }
   },
   "outputs": [],
   "source": [
    "table, th, td {\n",
    "    border: 1px solid black;\n",
    "    }\n"
   ]
  },
  {
   "cell_type": "code",
   "execution_count": null,
   "metadata": {
    "vscode": {
     "languageId": "html"
    }
   },
   "outputs": [],
   "source": [
    "table {\n",
    "    border-collapse: collapse;\n",
    "    }"
   ]
  },
  {
   "cell_type": "code",
   "execution_count": null,
   "metadata": {
    "vscode": {
     "languageId": "html"
    }
   },
   "outputs": [],
   "source": [
    "#now \n",
    "\n",
    "<tr>\n",
    "    <th id=\"A\" colspan=\"6\"> Final Examination Schedule - Fall 2008</th>\n",
    "</tr>\n",
    "\n",
    "\n",
    "#A{\n",
    "    background-color: yellow;\n",
    "}"
   ]
  },
  {
   "cell_type": "code",
   "execution_count": null,
   "metadata": {
    "vscode": {
     "languageId": "html"
    }
   },
   "outputs": [],
   "source": [
    "<tr id=\"B\">\n",
    "    <th> </th>\n",
    "    <th>Monday <br> Dec. 15</th>\n",
    "    <th>Tuesday <br> Dec.16 </th>\n",
    "    <th>Wedneday <br> Dec.17 </th>\n",
    "    <th>Thrusday <br> Dec.18 </th>\n",
    "    <td id=\"C\" rowspan=\"5\"> Home</td>\n",
    "\n",
    "\n",
    "\n",
    "#B{\n",
    "    background-color: yellow;\n",
    "}\n"
   ]
  },
  {
   "cell_type": "code",
   "execution_count": null,
   "metadata": {
    "vscode": {
     "languageId": "html"
    }
   },
   "outputs": [],
   "source": [
    "#C{\n",
    "    background-color: hotpink;\n",
    "}\n",
    "\n",
    "\n",
    "\n",
    "<td id=\"C\" rowspan=\"5\"> Home</td>\n"
   ]
  },
  {
   "cell_type": "code",
   "execution_count": null,
   "metadata": {
    "vscode": {
     "languageId": "html"
    }
   },
   "outputs": [],
   "source": [
    "# and add <br> for content to break"
   ]
  },
  {
   "cell_type": "code",
   "execution_count": null,
   "metadata": {
    "vscode": {
     "languageId": "html"
    }
   },
   "outputs": [],
   "source": [
    "// now  add these:\n",
    "\n",
    "\n",
    "// for text to display center alignment\n",
    "text-align: center;  \n",
    "\n",
    "// and now padding based on ur requiremnt\n",
    "padding: 10px;\n",
    "\n"
   ]
  },
  {
   "cell_type": "code",
   "execution_count": null,
   "metadata": {
    "vscode": {
     "languageId": "html"
    }
   },
   "outputs": [],
   "source": [
    "if we gave id to the tag like id=\"A\"\n",
    "\n",
    "for using this in css we have to give\n",
    "\n",
    "#A{\n",
    "    \n",
    "}"
   ]
  }
 ],
 "metadata": {
  "language_info": {
   "name": "python"
  }
 },
 "nbformat": 4,
 "nbformat_minor": 2
}
