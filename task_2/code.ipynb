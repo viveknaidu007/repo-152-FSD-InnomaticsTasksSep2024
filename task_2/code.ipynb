{
 "cells": [
  {
   "cell_type": "markdown",
   "metadata": {},
   "source": [
    "# Company Directory Portal"
   ]
  },
  {
   "cell_type": "code",
   "execution_count": null,
   "metadata": {},
   "outputs": [],
   "source": [
    "press \n",
    "\n",
    "press \"!\" and press \"tab\" for automatic template"
   ]
  },
  {
   "cell_type": "markdown",
   "metadata": {},
   "source": [
    "    <header>\n",
    "        <h1> Company Directory Portal </h1>\n",
    "    </header>"
   ]
  },
  {
   "cell_type": "markdown",
   "metadata": {},
   "source": [
    "    <!-- Registration Form Section -->\n",
    "    <section class=\"registration\">\n",
    "        <h2>Employee Registration Form</h2>\n",
    "        <form action=\"#\" method=\"post\">\n",
    "            <label for=\"name\">Full Name</label>\n",
    "            <input type=\"text\" id=\"name\" name=\"name\" placeholder=\"Enter full name\" required>\n",
    "            \n",
    "            <label for=\"email\">Email</label>\n",
    "            <input type=\"email\" id=\"email\" name=\"email\" placeholder=\"Enter email\" required>\n",
    "            \n",
    "            <label for=\"department\">Department</label>\n",
    "            <select id=\"department\" name=\"department\" required>\n",
    "                <option value=\"Data Science\">Engineering</option>\n",
    "                <option value=\"hr\">HR</option>\n",
    "                <option value=\"marketing\">Data Science</option>\n",
    "                <option value=\"marketing\">Full Stack</option>\n",
    "                <option value=\"marketing\">Artifical Inteligence</option>\n",
    "                <option value=\"marketing\">Networking</option>\n",
    "            </select>\n",
    "            \n",
    "            <label for=\"employee-id\">Employee ID</label>\n",
    "            <input type=\"number\" id=\"employee-id\" name=\"employee-id\" placeholder=\"Enter employee ID\" required>\n",
    "            \n",
    "            <label for=\"profile-pic\">Profile Picture URL</label>\n",
    "            <input type=\"url\" id=\"profile-pic\" name=\"profile-pic\" placeholder=\"Enter picture URL\" required>\n",
    "            \n",
    "            <button type=\"submit\">Register Employee</button>\n",
    "        </form>\n",
    "    </section>\n"
   ]
  },
  {
   "cell_type": "markdown",
   "metadata": {},
   "source": [
    "    <!-- Employee List Section -->\n",
    "    <section class=\"employee-list\">\n",
    "        <h2>Employee List</h2>\n",
    "        <ol>\n",
    "            <li><a href=\"#\">Vivek  [vivek@gmail.com]</a></li>\n",
    "            <li><a href=\"#\">Teja  [Teja@gmail.com]</a></li>\n",
    "        </ol>\n",
    "    </section>"
   ]
  },
  {
   "cell_type": "markdown",
   "metadata": {},
   "source": [
    "    <!-- Employee Details Table -->\n",
    "    <section class=\"employee-details\">\n",
    "        <h2>Employee Details</h2>\n",
    "        <table>\n",
    "            <thead>\n",
    "                <tr>\n",
    "                    <th>Name</th>\n",
    "                    <th>Employee ID</th>\n",
    "                    <th>Department</th>\n",
    "                    <th>Profile Picture</th>\n",
    "                </tr>\n",
    "            </thead>\n",
    "            <tbody>\n",
    "                <tr>\n",
    "                    <td>vivek</td>\n",
    "                    <td>innomatics-10245</td>\n",
    "                    <td>Full Stack</td>\n",
    "                    <td><img src=\"Untitled.jpg\" alt=\"vivek's Profile\"></td>\n",
    "                </tr>\n",
    "                <tr>\n",
    "                    <td>Teja</td>\n",
    "                    <td> innomatics-10546</td>\n",
    "                    <td>Data Sciecne</td>\n",
    "                    <td><img src=\"https://th.bing.com/th/id/OIP.0APFIRMrhLHJmNQDhSK3vAHaHa?rs=1&pid=ImgDetMain\" alt=\"teja's  Profile\"></td>\n",
    "                </tr>\n",
    "            </tbody>\n",
    "        </table>\n",
    "    </section>"
   ]
  },
  {
   "cell_type": "markdown",
   "metadata": {},
   "source": [
    "    <!-- Embedded Map Section -->\n",
    "    <section class=\"map-section\">\n",
    "        <h2>Our Location</h2>\n",
    "\n",
    "        <iframe src=\"https://www.google.com/maps/embed?pb=!1m14!1m8!1m3!1d1902.597884163716!2d78.388922!3d17.4981658!3m2!1i1024!2i768!4f13.1!3m3!1m2!1s0x3bcb91f3fdf6bde9%3A0x752db86a6ab3be2a!2sInnomatics%20Research%20Labs!5e0!3m2!1sen!2sin!4v1727330385074!5m2!1sen!2sin\" width=\"600\" height=\"450\" style=\"border:0;\" allowfullscreen=\"\" loading=\"lazy\" referrerpolicy=\"no-referrer-when-downgrade\"></iframe>\n",
    "    </section>\n",
    "\n",
    "</body>\n",
    "</html>"
   ]
  },
  {
   "cell_type": "code",
   "execution_count": null,
   "metadata": {},
   "outputs": [],
   "source": [
    "#now styling\n",
    "\n",
    "#here w ecan give two ways of styling\n",
    "\"\"\"\n",
    "// style tag in html \n",
    "<style>\n",
    "<style/>\n",
    "\n",
    "\n",
    "// linking external page for styling \n",
    "<link rel=\"stylesheet\" href=\"style.css\">\n",
    "\"\"\""
   ]
  },
  {
   "cell_type": "markdown",
   "metadata": {},
   "source": [
    "\"\"\"\"\"\"\"\""
   ]
  },
  {
   "cell_type": "code",
   "execution_count": null,
   "metadata": {},
   "outputs": [],
   "source": [
    "\"\"\"/* Form Section Styling */\n",
    "\n",
    "\n",
    ".registration form {\n",
    "    display: flex;\n",
    "    flex-direction: column;\n",
    "    gap: 10px;\n",
    "}\n",
    "\n",
    ".registration label {\n",
    "    font-weight: bold;\n",
    "}\n",
    "\n",
    ".registration input, .registration select {\n",
    "    padding: 10px;\n",
    "    border: 1px solid #ccc;\n",
    "    border-radius: 4px;\n",
    "    font-size: 16px;\n",
    "}\n",
    "\n",
    ".registration button {\n",
    "    padding: 12px;\n",
    "    background-color: purple;\n",
    "    color: white;\n",
    "    border: none;\n",
    "    border-radius: 4px;\n",
    "    cursor: pointer;\n",
    "    font-size: 16px;\n",
    "}\n",
    "\n",
    ".registration button:hover {\n",
    "    background-color: red;\n",
    "}\n",
    "\"\"\""
   ]
  },
  {
   "cell_type": "code",
   "execution_count": null,
   "metadata": {},
   "outputs": [],
   "source": [
    "\"\"\"/* Employee List Styling */\n",
    ".employee-list ol {\n",
    "    padding: 0;\n",
    "    list-style: none;\n",
    "    text-align: left;\n",
    "}\n",
    "\n",
    ".employee-list ol li {\n",
    "    padding: 10px;\n",
    "    border-bottom: 1px solid #ccc;\n",
    "}\n",
    "\n",
    ".employee-list ol li a {\n",
    "    text-decoration: none;\n",
    "    color: #007BFF;\n",
    "}\n",
    "\n",
    ".employee-list ol li a:hover {\n",
    "    text-decoration: underline;\n",
    "}\n",
    "\"\"\""
   ]
  },
  {
   "cell_type": "code",
   "execution_count": null,
   "metadata": {},
   "outputs": [],
   "source": [
    "\"\"\"/* Table Styling */\n",
    "table {\n",
    "    width: 100%;\n",
    "    border-collapse: collapse;\n",
    "    margin-top: 20px;\n",
    "}\n",
    "\n",
    "table th, table td {\n",
    "    padding: 15px;\n",
    "    border: 1px solid #ddd;\n",
    "    text-align: center;\n",
    "}\n",
    "\n",
    "table th {\n",
    "    background-color: #f4f4f4;\n",
    "}\n",
    "\n",
    "table img {\n",
    "    width: 50px;\n",
    "    height: 50px;\n",
    "    border-radius: 50%;\n",
    "}\n",
    "\"\"\""
   ]
  },
  {
   "cell_type": "code",
   "execution_count": null,
   "metadata": {},
   "outputs": [],
   "source": [
    "\"\"\"/* Map Section */\n",
    ".map-section iframe {\n",
    "    width: 100%;\n",
    "    height: 400px;\n",
    "    border: none;\n",
    "    margin-top: 20px;\n",
    "}\n",
    "\"\"\""
   ]
  }
 ],
 "metadata": {
  "language_info": {
   "name": "python"
  }
 },
 "nbformat": 4,
 "nbformat_minor": 2
}
